{
 "cells": [
  {
   "cell_type": "markdown",
   "metadata": {},
   "source": [
    "## Ejercicio 3 ##\n",
    "\n",
    "¿Qué fuerza debemos de ejercer en el émbolo pequeño de una prensa hidraulica si queremos levantar un masa de  \n",
    " 20,000kg situada en el émbolo grande.El radio de ambos émbolos es 0.2m y 4m respectivamente.\n",
    "\n",
    "Datos:\n",
    "- m=20,000kg\n",
    "- r1=0.2m\n",
    "- r2=4m\n",
    "\n",
    "Incógnita:\n",
    "- F1?\n",
    "\n",
    "Procedimiento:\n",
    "- Queremos calcular la fuerza que hay que aplicar en el émbolo pequeño, para levantar 20,000kg en el émbolo grande\n",
    "\n",
    "Tenemos la siguiente formula:\n",
    "\n",
    "$\\frac{F1}{A1}=\\frac{F2}{A2}$\n",
    "\n",
    "Queremos obtener la F1, necesitamos despejar F1 de la ecuación:\n",
    "\n",
    "$A1\\frac{F1}{A1} = A1\\frac{F2}{A2}$\n",
    "\n",
    "$F1=A1\\frac{F2}{A2}$\n",
    "\n",
    "Necesitamos la F2. Se obtiene calculando el peso, multiplicando masa por gravedad\n",
    "\n",
    "$F2=m*g$\n",
    "\n",
    "$F2=20,000Kg*9.8\\frac{m}{s^2}$\n",
    "\n",
    "$F2=196,000N$\n",
    "\n",
    "Necesitamos el A1 y A2. Se pueden obtener con las siguientes formulas \n",
    "\n",
    "$A1= \\pi *{r^2}\\qquad$                              $A2= \\pi *{r^2}$ \n",
    "\n",
    "$A1=3.1416*(0.2m)^2\\qquad$                            $A2=3.1416*(4m)^2$\n",
    "\n",
    "$A1=3.1416*0.4m^2\\qquad$                              $A2=3.1416*16m^2$  \n",
    "\n",
    "$A1=0.13m^2\\qquad$                                    $A2=50.27m^2$\n",
    "\n",
    "Con los datos anteriores ya podemos calcular F1\n",
    "\n",
    "\n",
    "### $F1=0.13m^2\\frac{196,000N}{50.27m^2}$\n",
    "\n",
    "### $F1=0.13*3.898.95$\n",
    "\n",
    "# <span style=\"color:red;\">F1=506.86N\n"
   ]
  }
 ],
 "metadata": {
  "language_info": {
   "name": "python"
  }
 },
 "nbformat": 4,
 "nbformat_minor": 2
}
