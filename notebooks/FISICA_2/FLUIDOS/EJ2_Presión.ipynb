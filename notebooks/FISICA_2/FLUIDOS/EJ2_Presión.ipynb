{
 "cells": [
  {
   "cell_type": "markdown",
   "metadata": {},
   "source": [
    "## Ejercicio 2 ##\n",
    "\n",
    "Un objeto sumergido en agua de mar experimenta una presión de $5 atm$\n",
    "¿Calcula a qué profundidad se encuentra?  \n",
    "Densidad del agua de mar $1030\\frac{Kg}{m^3}$\n",
    "\n",
    "Datos:\n",
    "\n",
    "- Densidad del agua de mar= $1030\\frac{Kg}{m^3}$\n",
    "- Presión= 5 atm\n",
    "- 1 atm= 101325 Pa\n",
    "- Gravedad de la tierra= $9.807\\frac{m}{s^2}$\n",
    "- Fórmula= P-Po=pgh\n",
    "\n",
    "Incógnita:\n",
    "- Profundidad\n",
    "\n",
    "Procedimiento:\n",
    "\n",
    "Despejamos la altura en la ecuación de presión\n",
    "- $ h=\\frac {P-Po}{p*g} $\n",
    "\n",
    "Convertir 5atm a pascales\n",
    "- 1atm= 101,325 pascales\n",
    "- 5atm*101,325 Pa\n",
    "- 506,625 Pa\n",
    "\n",
    "Obtenemos la profundidad\n",
    "### $ h=\\frac {506,625Pa-101,325Pa} { 1,030\\frac{Kg}{m^3} * 9.81\\frac{m}{s^2} } $\n",
    "### $ h=\\frac {405,300Pa} { 10,104.3\\frac{kg}{m^3} * \\frac {m}{s^2} } $\n",
    "\n",
    "Resultado de la profundidad\n",
    "\n",
    " ### <span style=\"color: red;\">h= 40.1116m </span> \n",
    "\n",
    "\n",
    "\n",
    "\n",
    "\n",
    "\n",
    "\n",
    "\n"
   ]
  },
  {
   "cell_type": "code",
   "execution_count": null,
   "metadata": {},
   "outputs": [],
   "source": []
  }
 ],
 "metadata": {
  "kernelspec": {
   "display_name": "Python 3",
   "language": "python",
   "name": "python3"
  },
  "language_info": {
   "codemirror_mode": {
    "name": "ipython",
    "version": 3
   },
   "file_extension": ".py",
   "mimetype": "text/x-python",
   "name": "python",
   "nbconvert_exporter": "python",
   "pygments_lexer": "ipython3",
   "version": "3.10.13"
  }
 },
 "nbformat": 4,
 "nbformat_minor": 2
}
