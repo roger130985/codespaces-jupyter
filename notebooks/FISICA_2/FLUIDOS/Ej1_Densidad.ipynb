{
 "cells": [
  {
   "cell_type": "markdown",
   "metadata": {},
   "source": []
  },
  {
   "cell_type": "markdown",
   "metadata": {},
   "source": []
  },
  {
   "cell_type": "markdown",
   "metadata": {},
   "source": [
    "### Ejercicio 1 \n",
    "\n",
    "\n",
    "Calcula la masa de aire en una habitación $25°C$, de $5m$ de ancho, $8m$ de largo y $2.5m$ de altura.Densidad de aire a 25°C, $1.18\\frac{kG}{m^3}$\n",
    "\n",
    "Datos:\n",
    "- Temperatura= 25°C\n",
    "- Largo= 8m\n",
    "- Ancho= 5m\n",
    "- Altura= 2.5m\n",
    "- Densidad del aire (25°C)= $1.18\\frac{Kg}{m^3}$\n",
    "\n",
    "Incógnita:\n",
    "- Masa= ?\n",
    "\n",
    "Procedimiento:\n",
    "\n",
    "- Tenemos la formula de densidad\n",
    "$$\\rho=\\frac{m}{v}$$\n",
    "\n",
    "- Necesitamos el volumen\n",
    "$$V=ancho*largo*altura$$\n",
    "$$V=5m*8m*2.5m$$\n",
    "$$V=100m^3$$\n",
    "\n",
    "- Despejamos la masa en la ecuación de densidad\n",
    "$$m=\\rho*V$$\n",
    "\n",
    "- Obtenemos la masa del aire\n",
    "$$m=1.18\\frac{Kg}{m^3} * 100m^3$$\n",
    "\n",
    "- Resultado de la masa de aire de la habitación\n",
    "$$m=118{Kg}$$\n",
    "\n",
    "\n",
    "\n",
    "\n",
    "\n"
   ]
  },
  {
   "cell_type": "markdown",
   "metadata": {},
   "source": []
  }
 ],
 "metadata": {
  "language_info": {
   "name": "python"
  }
 },
 "nbformat": 4,
 "nbformat_minor": 2
}
