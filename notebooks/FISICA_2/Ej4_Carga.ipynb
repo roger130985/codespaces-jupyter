{
 "cells": [
  {
   "cell_type": "markdown",
   "metadata": {},
   "source": [
    "### Ejercicio 4\n",
    "\n",
    "-Tenemos una moneda de cobre con una masa de 3.1g ¿Cual es la carga total de todos los electrones contenidos en la moneda?\n",
    "\n",
    "Datos:\n",
    "\n",
    "$m=3.1g$\n",
    "\n",
    "$Z=29$\n",
    "\n",
    "$A=63.55g$\n",
    "\n",
    "$NA=6.02x10^{23}$\n",
    "\n",
    "$qe=-1.6x10^{-19}C$\n",
    "\n",
    "-Incognita:\n",
    "\n",
    "$q=?$\n",
    "\n",
    "-Procedimiento\n",
    "\n",
    "\n",
    "### $q= 3.1 \\cancel{g} \\frac{6.02\\times10^{23} \\cancel{atomos}}{63.55 \\cancel{g}} \\frac{29 \\space \\cancel {electrones}}{1 \\space \\cancel{atomos}} \\frac{-1.6 \\times 10^{-19}C}{1 \\space \\cancel{electrones}}$\n",
    "\n",
    "-Resultado\n",
    "\n",
    "### <span style=\"color: red;\"> q=-136257.561C\n",
    "\n"
   ]
  }
 ],
 "metadata": {
  "language_info": {
   "name": "python"
  }
 },
 "nbformat": 4,
 "nbformat_minor": 2
}
