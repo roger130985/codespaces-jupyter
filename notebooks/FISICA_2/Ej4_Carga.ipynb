{
 "cells": [
  {
   "cell_type": "markdown",
   "metadata": {},
   "source": [
    "### Ejercicio 4\n",
    "\n",
    "-Tenemos una moneda de cobre con una masa de 3.1g ¿Cual es la carga total de todos los electrones contenidos en la moneda?\n",
    "\n",
    "Datos:\n",
    "\n",
    "$m=3.1g$\n",
    "\n",
    "$Z=29$\n",
    "\n",
    "$A=63.55g$\n",
    "\n",
    "$NA=6.02x10^{23}$\n",
    "\n",
    "$qe=-1.6x10^{-19}C$\n",
    "\n",
    "-Incognita:\n",
    "\n",
    "$q=?$\n",
    "\n",
    "-Procedimiento\n",
    "\n",
    "###$q=3.1\\cancel{g}\\frac{6.02\\times10^{23}\\cancel{atomos}}{63.55\\cancel{g}}\\frac29\\space electrones}{1\\space }{1\\space\\cancel{atomos}}\\frac{-1.6\\times 10^{-19}C}{1\\space\\cancel{electrones}}}}}$\n",
    "\n"
   ]
  }
 ],
 "metadata": {
  "language_info": {
   "name": "python"
  }
 },
 "nbformat": 4,
 "nbformat_minor": 2
}
