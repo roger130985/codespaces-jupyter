{
 "cells": [
  {
   "cell_type": "markdown",
   "metadata": {},
   "source": [
    "# error absoluto:\n",
    "Error absoluto es igual a la imprecisión que acompaña a la medida.\n",
    "### panecillo\n",
    "- $V_E=12.5cm$\n",
    "- $V_A=12.6cm$\n",
    "### cirugia\n",
    "- $V_E=0.4cm$\n",
    "- $V_A=0.3cm$\n",
    "### datos del panecillo\n",
    "- $V_exacto_pan=12.5cm$\n",
    "- $V_aprox_pan=12.6cm$\n",
    "### datos de la cirugia\n",
    "- $V_exacto_cirugia=0.4cm$\n",
    "- $V_aprox_cirugia=0.3cm$\n",
    "### resultado final\n",
    "- e_abs_pan=(v_exacto-pan=v_aprox_pan)\n",
    "- e_abs_cirugia=(v_exacto_cirugia=v_aprox_cirugia)\n",
    "- print (error absoluto del panecillo)\n",
    "\n"
   ]
  },
  {
   "cell_type": "markdown",
   "metadata": {},
   "source": []
  }
 ],
 "metadata": {
  "language_info": {
   "name": "python"
  }
 },
 "nbformat": 4,
 "nbformat_minor": 2
}
