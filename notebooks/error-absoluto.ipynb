{
 "cells": [
  {
   "cell_type": "markdown",
   "metadata": {},
   "source": [
    "# error absoluto:\n",
    "Error absoluto es igual a la imprecisión que acompaña a la medida.\n",
    "### panecillo\n",
    "- $V_E=12.5cm$\n",
    "- $V_A=12.6cm$\n",
    "### cirugia\n",
    "- $V_E=0.4cm$\n",
    "- $V_A=0.3cm$\n",
    "\n"
   ]
  },
  {
   "cell_type": "markdown",
   "metadata": {},
   "source": []
  }
 ],
 "metadata": {
  "language_info": {
   "name": "python"
  }
 },
 "nbformat": 4,
 "nbformat_minor": 2
}
